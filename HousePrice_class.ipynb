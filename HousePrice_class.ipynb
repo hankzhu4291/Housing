{
 "cells": [
  {
   "cell_type": "code",
   "execution_count": 7,
   "metadata": {
    "collapsed": true
   },
   "outputs": [],
   "source": [
    "import numpy as np\n",
    "import pandas as pd\n",
    "import matplotlib.pyplot as plt\n",
    "\n",
    "from sklearn.preprocessing import OneHotEncoder\n",
    "\n",
    "from sklearn.model_selection import  train_test_split\n",
    "from sklearn.linear_model import Ridge\n",
    "\n",
    "from sklearn.metrics import mean_squared_error\n",
    "\n",
    "import warnings\n",
    "warnings.filterwarnings('ignore')"
   ]
  },
  {
   "cell_type": "code",
   "execution_count": 8,
   "metadata": {
    "collapsed": true
   },
   "outputs": [],
   "source": [
    "class HousingPrice():\n",
    "    '''\n",
    "    Housing price prediction in SACRAMENTO\n",
    "    '''\n",
    "    def __init__(self, fileName):\n",
    "        self.fileName = fileName\n",
    "        self.model = None\n",
    "        self.X_train = None\n",
    "        self.X_test = None\n",
    "        self.y_train = None\n",
    "        self.y_test = None\n",
    "        self.test_mse = 0\n",
    "        self.others = []\n",
    "        \n",
    "    def extract_road(self, x):\n",
    "        '''\n",
    "        Extract street type from each address\n",
    "        '''\n",
    "        x_ls = x.split(' ')\n",
    "\n",
    "        if 'Unit' in x_ls:\n",
    "            x_road = x_ls[-3]\n",
    "        elif x_ls[-1].isdigit():\n",
    "            x_road = x_ls[-2]\n",
    "        else:\n",
    "            x_road = x_ls[-1]\n",
    "\n",
    "        return x_road\n",
    "\n",
    "    def sacram(self, x):\n",
    "        '''\n",
    "        Transform other cities except SACRAMENTO into Others\n",
    "        '''\n",
    "        if x == 'SACRAMENTO':\n",
    "            return x\n",
    "        else:\n",
    "            return 'others'\n",
    "        \n",
    "    def other_transform(self, x):\n",
    "        '''\n",
    "        Transform street types with frequency 1 into others\n",
    "        '''\n",
    "        if x in self.others:\n",
    "            return 'others'\n",
    "        else:\n",
    "            return x\n",
    "\n",
    "    def data_wrangling(self, fileName):\n",
    "        '''\n",
    "        Data cleaning and wrangling\n",
    "        '''\n",
    "        \n",
    "        # Delete the data point with Unknown type\n",
    "        data = pd.read_csv(fileName)\n",
    "        data = data.query('type!=\"Unkown\"')\n",
    "\n",
    "        # Drop columns Zip, State\n",
    "        data = data.iloc[:,1:]\n",
    "        data = data.drop(['zip', 'state'], axis=1)\n",
    "\n",
    "        # Extract street type and create a new feature\n",
    "        streets = data.street.apply(self.extract_road)\n",
    "        data['street_type'] = streets\n",
    "\n",
    "        # delete street\n",
    "        data = data.iloc[:,1:]\n",
    "\n",
    "        # Delete those data points with 0 in the three features\n",
    "        data = data.query('beds != 0 or baths != 0').query('sq__ft != 0')\n",
    "\n",
    "        # Delete the data point with sq__ft over 5000\n",
    "        data = data.query('sq__ft<5000')\n",
    "\n",
    "        # Transform cities ouside Sacramento into 'others' \n",
    "        data['city_bi'] = data.city.apply(self.sacram)\n",
    "\n",
    "        # Transform street types with frequency 1 into others\n",
    "        street_count = data.street_type.value_counts()\n",
    "        self.others = street_count[street_count == 1].keys().tolist()\n",
    "\n",
    "        data['street_t'] = data.street_type.apply(self.other_transform)\n",
    "        data = data.drop('street_type', axis=1)\n",
    "\n",
    "        return data\n",
    "    \n",
    "    def data_split(self):\n",
    "        '''\n",
    "        Data transformation and split\n",
    "        '''\n",
    "        # Data Wrangling\n",
    "        data = self.data_wrangling(self.fileName)\n",
    "        \n",
    "        # Get X and y\n",
    "        X = data.drop('price', axis=1)\n",
    "        y = data.price\n",
    "\n",
    "        # One Hot encoding\n",
    "        X_one_df = pd.get_dummies(X, columns=['city', 'type', 'sale_date','city_bi', 'street_t'])\n",
    "        X_one = X_one_df.as_matrix()\n",
    "        \n",
    "        # Split the data\n",
    "        self.X_train, self.X_test, self.y_train, self.y_test = train_test_split(X_one, y, test_size = 0.2, random_state = 48) \n",
    "            \n",
    "    def fit(self):\n",
    "        '''\n",
    "        Fit a model\n",
    "        '''  \n",
    "        model = Ridge(alpha=0.3)\n",
    "        self.data_split()\n",
    "        self.model = model.fit(self.X_train, self.y_train)\n",
    "   \n",
    "    def predict(self):\n",
    "        '''\n",
    "        Make prediction on final test set\n",
    "        '''\n",
    "        pred = self.model.predict(self.X_test)\n",
    "        self.test_mse = mean_squared_error(self.y_test, pred)\n",
    "        "
   ]
  },
  {
   "cell_type": "code",
   "execution_count": 9,
   "metadata": {
    "collapsed": true
   },
   "outputs": [],
   "source": [
    "house_prediction = HousingPrice('sacramento_real_estate_transactions_Clean.csv')\n",
    "house_prediction.fit()\n",
    "house_prediction.predict()"
   ]
  },
  {
   "cell_type": "code",
   "execution_count": 10,
   "metadata": {},
   "outputs": [
    {
     "data": {
      "text/plain": [
       "5837489353.8191128"
      ]
     },
     "execution_count": 10,
     "metadata": {},
     "output_type": "execute_result"
    }
   ],
   "source": [
    "house_prediction.test_mse"
   ]
  }
 ],
 "metadata": {
  "kernelspec": {
   "display_name": "Python [default]",
   "language": "python",
   "name": "python2"
  },
  "language_info": {
   "codemirror_mode": {
    "name": "ipython",
    "version": 2
   },
   "file_extension": ".py",
   "mimetype": "text/x-python",
   "name": "python",
   "nbconvert_exporter": "python",
   "pygments_lexer": "ipython2",
   "version": "2.7.14"
  }
 },
 "nbformat": 4,
 "nbformat_minor": 2
}
