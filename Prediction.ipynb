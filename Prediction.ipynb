{
 "cells": [
  {
   "cell_type": "markdown",
   "metadata": {},
   "source": [
    "### Summary:\n"
   ]
  },
  {
   "cell_type": "markdown",
   "metadata": {},
   "source": [
    "> Feature encoding:\n",
    "1. One-hot Encoding for Linear Regression(Ridge, Lasso)\n",
    "2. Label Encoding for Tree-based models\n",
    "\n",
    "> Feature importance:\n",
    "1. From Ridge:\n",
    "[('city_LOOMIS', 255657.16792003103),\n",
    " ('city_GRANITE BAY', 210224.70962255102),\n",
    " ('city_ELVERTA', -110298.27553560599),\n",
    " ('city_WALNUT GROVE', 96940.214942627936),\n",
    " ('city_NORTH HIGHLANDS', -92807.269564508562),\n",
    " ('city_MATHER', -87483.255104362732),\n",
    " ('city_RANCHO CORDOVA', -81528.73995627249),\n",
    " ('city_ANTELOPE', -78009.172443906806),\n",
    " ('city_WILTON', 68602.81506144478),\n",
    " ('city_GREENWOOD', -62531.550622174662),\n",
    " ('city_CITRUS HEIGHTS', -60028.118421290594),\n",
    " ('city_GOLD RIVER', 59755.488911198525),\n",
    " ('latitude', 57077.361004522354),\n",
    " ('city_RIO LINDA', -53897.255200979191),\n",
    " ('city_ELK GROVE', -52117.656747969282),\n",
    " ('city_FOLSOM', 50694.307059907107),\n",
    " ('street_t_others', 44244.752058880607),\n",
    " ('city_GALT', -43229.903867043453),\n",
    " ('city_AUBURN', 40767.528626936444),\n",
    " ('street_t_BLVD', -38398.899285840576)]\n",
    "2. From Random Forest:\n",
    "[('sq__ft', 0.69539403814452294),\n",
    " ('longitude', 0.136424775841784),\n",
    " ('latitude', 0.075937152395958094),\n",
    " ('sale_date', 0.022736348352620683),\n",
    " ('street_t', 0.022111636592509337),\n",
    " ('city', 0.015946392323020597),\n",
    " ('beds', 0.014743702564788432),\n",
    " ('baths', 0.013509928730061944),\n",
    " ('city_bi', 0.0021669701238583895),\n",
    " ('type', 0.0010290549308750799)]"
   ]
  },
  {
   "cell_type": "markdown",
   "metadata": {},
   "source": [
    "From the feature importance in Random Forest, the size(sq__ft), location(longitude, latitude) are the most important features. From Ridge, the top 20 important features mainly include the cities which represent the influence of location on price"
   ]
  },
  {
   "cell_type": "markdown",
   "metadata": {},
   "source": [
    "#### Performance (Mean Squared Error)"
   ]
  },
  {
   "cell_type": "markdown",
   "metadata": {},
   "source": [
    "Model | Cross Validation MSE | Test MSE\n",
    "----- | ---------------------| --------\n",
    "Baseline | 14311627419.02095 \n",
    "Ridge | 5357328970.21 | 5837489353.82\n",
    "Decision Tree | 6507204205.87 | 7907573268.44\n",
    "Random Forest | 5532697156.03 | 6610555583.08\n"
   ]
  },
  {
   "cell_type": "markdown",
   "metadata": {},
   "source": [
    "#### Analysis"
   ]
  },
  {
   "cell_type": "markdown",
   "metadata": {},
   "source": [
    "* all models perform much better than baseline.\n",
    "* all models have some overfitting problem but tree models are much worse because they have poorer performance on test set than cross validation.\n",
    "* Ridge gives the best both of validation and test performance"
   ]
  },
  {
   "cell_type": "markdown",
   "metadata": {},
   "source": [
    "#### Suggestion:"
   ]
  },
  {
   "cell_type": "markdown",
   "metadata": {},
   "source": [
    "I would suggest Ridge as the final model"
   ]
  },
  {
   "cell_type": "code",
   "execution_count": 1,
   "metadata": {
    "collapsed": true
   },
   "outputs": [],
   "source": [
    "import numpy as np\n",
    "import pandas as pd\n",
    "import matplotlib.pyplot as plt\n",
    "\n",
    "from sklearn.preprocessing import LabelEncoder, OneHotEncoder\n",
    "\n",
    "from sklearn.model_selection import  train_test_split, cross_val_score, validation_curve, ParameterGrid\n",
    "from sklearn.linear_model import LinearRegression, Ridge, Lasso\n",
    "from sklearn.tree import DecisionTreeRegressor\n",
    "from sklearn.ensemble import RandomForestRegressor\n",
    "\n",
    "from sklearn.metrics import mean_squared_error\n"
   ]
  },
  {
   "cell_type": "code",
   "execution_count": 2,
   "metadata": {
    "collapsed": true
   },
   "outputs": [],
   "source": [
    "data_new = pd.read_csv('data_new.csv')"
   ]
  },
  {
   "cell_type": "code",
   "execution_count": 3,
   "metadata": {},
   "outputs": [
    {
     "data": {
      "text/html": [
       "<div>\n",
       "<style>\n",
       "    .dataframe thead tr:only-child th {\n",
       "        text-align: right;\n",
       "    }\n",
       "\n",
       "    .dataframe thead th {\n",
       "        text-align: left;\n",
       "    }\n",
       "\n",
       "    .dataframe tbody tr th {\n",
       "        vertical-align: top;\n",
       "    }\n",
       "</style>\n",
       "<table border=\"1\" class=\"dataframe\">\n",
       "  <thead>\n",
       "    <tr style=\"text-align: right;\">\n",
       "      <th></th>\n",
       "      <th>city</th>\n",
       "      <th>beds</th>\n",
       "      <th>baths</th>\n",
       "      <th>sq__ft</th>\n",
       "      <th>type</th>\n",
       "      <th>sale_date</th>\n",
       "      <th>price</th>\n",
       "      <th>latitude</th>\n",
       "      <th>longitude</th>\n",
       "      <th>city_bi</th>\n",
       "      <th>street_t</th>\n",
       "    </tr>\n",
       "  </thead>\n",
       "  <tbody>\n",
       "    <tr>\n",
       "      <th>0</th>\n",
       "      <td>SACRAMENTO</td>\n",
       "      <td>2</td>\n",
       "      <td>1</td>\n",
       "      <td>836</td>\n",
       "      <td>Residential</td>\n",
       "      <td>Wed May 21 00:00:00 EDT 2008</td>\n",
       "      <td>59222</td>\n",
       "      <td>38.631913</td>\n",
       "      <td>-121.434879</td>\n",
       "      <td>SACRAMENTO</td>\n",
       "      <td>ST</td>\n",
       "    </tr>\n",
       "    <tr>\n",
       "      <th>1</th>\n",
       "      <td>SACRAMENTO</td>\n",
       "      <td>3</td>\n",
       "      <td>1</td>\n",
       "      <td>1167</td>\n",
       "      <td>Residential</td>\n",
       "      <td>Wed May 21 00:00:00 EDT 2008</td>\n",
       "      <td>68212</td>\n",
       "      <td>38.478902</td>\n",
       "      <td>-121.431028</td>\n",
       "      <td>SACRAMENTO</td>\n",
       "      <td>CT</td>\n",
       "    </tr>\n",
       "    <tr>\n",
       "      <th>2</th>\n",
       "      <td>SACRAMENTO</td>\n",
       "      <td>2</td>\n",
       "      <td>1</td>\n",
       "      <td>796</td>\n",
       "      <td>Residential</td>\n",
       "      <td>Wed May 21 00:00:00 EDT 2008</td>\n",
       "      <td>68880</td>\n",
       "      <td>38.618305</td>\n",
       "      <td>-121.443839</td>\n",
       "      <td>SACRAMENTO</td>\n",
       "      <td>ST</td>\n",
       "    </tr>\n",
       "    <tr>\n",
       "      <th>3</th>\n",
       "      <td>SACRAMENTO</td>\n",
       "      <td>2</td>\n",
       "      <td>1</td>\n",
       "      <td>852</td>\n",
       "      <td>Residential</td>\n",
       "      <td>Wed May 21 00:00:00 EDT 2008</td>\n",
       "      <td>69307</td>\n",
       "      <td>38.616835</td>\n",
       "      <td>-121.439146</td>\n",
       "      <td>SACRAMENTO</td>\n",
       "      <td>WAY</td>\n",
       "    </tr>\n",
       "    <tr>\n",
       "      <th>4</th>\n",
       "      <td>SACRAMENTO</td>\n",
       "      <td>2</td>\n",
       "      <td>1</td>\n",
       "      <td>797</td>\n",
       "      <td>Residential</td>\n",
       "      <td>Wed May 21 00:00:00 EDT 2008</td>\n",
       "      <td>81900</td>\n",
       "      <td>38.519470</td>\n",
       "      <td>-121.435768</td>\n",
       "      <td>SACRAMENTO</td>\n",
       "      <td>DR</td>\n",
       "    </tr>\n",
       "  </tbody>\n",
       "</table>\n",
       "</div>"
      ],
      "text/plain": [
       "         city  beds  baths  sq__ft         type                     sale_date  \\\n",
       "0  SACRAMENTO     2      1     836  Residential  Wed May 21 00:00:00 EDT 2008   \n",
       "1  SACRAMENTO     3      1    1167  Residential  Wed May 21 00:00:00 EDT 2008   \n",
       "2  SACRAMENTO     2      1     796  Residential  Wed May 21 00:00:00 EDT 2008   \n",
       "3  SACRAMENTO     2      1     852  Residential  Wed May 21 00:00:00 EDT 2008   \n",
       "4  SACRAMENTO     2      1     797  Residential  Wed May 21 00:00:00 EDT 2008   \n",
       "\n",
       "   price   latitude   longitude     city_bi street_t  \n",
       "0  59222  38.631913 -121.434879  SACRAMENTO       ST  \n",
       "1  68212  38.478902 -121.431028  SACRAMENTO       CT  \n",
       "2  68880  38.618305 -121.443839  SACRAMENTO       ST  \n",
       "3  69307  38.616835 -121.439146  SACRAMENTO      WAY  \n",
       "4  81900  38.519470 -121.435768  SACRAMENTO       DR  "
      ]
     },
     "execution_count": 3,
     "metadata": {},
     "output_type": "execute_result"
    }
   ],
   "source": [
    "data_new.head()"
   ]
  },
  {
   "cell_type": "code",
   "execution_count": 4,
   "metadata": {
    "collapsed": true
   },
   "outputs": [],
   "source": [
    "# Label Encoding and One-hot Encoding\n",
    "X = data_new.drop('price', axis=1)\n",
    "y = data_new.price\n",
    "\n",
    "# Label encoding\n",
    "labelencoder_X = LabelEncoder()\n",
    "X_label = X.apply(labelencoder_X.fit_transform).values\n",
    "\n",
    "# One Hot encoding\n",
    "X_one_df = pd.get_dummies(X, columns=['city', 'type', 'sale_date','city_bi', 'street_t'])\n",
    "X_one = X_one_df.as_matrix()"
   ]
  },
  {
   "cell_type": "code",
   "execution_count": 5,
   "metadata": {},
   "outputs": [
    {
     "name": "stdout",
     "output_type": "stream",
     "text": [
      "Baseline: 14311627419.0\n"
     ]
    }
   ],
   "source": [
    "# Baseline\n",
    "print 'Baseline:', ((y - y.mean())**2).sum()/len(y)"
   ]
  },
  {
   "cell_type": "markdown",
   "metadata": {},
   "source": [
    "### Linear Regression"
   ]
  },
  {
   "cell_type": "code",
   "execution_count": 6,
   "metadata": {
    "collapsed": true
   },
   "outputs": [],
   "source": [
    "def plot_val_curve(model, X, y, param, values):\n",
    "    '''\n",
    "    Plotting validation curve of the model to diagnose bias-variance tradeoff for different parameters\n",
    "    '''\n",
    "    # Validation curve scores\n",
    "    train_scores, valid_scores = validation_curve(model, X, y, param, values,cv=6, scoring='neg_mean_squared_error')\n",
    "    best_mse = (-valid_scores.mean(axis=1)).min()\n",
    "    \n",
    "    # Plotting\n",
    "    plt.plot(values, -train_scores.mean(axis=1), label='training MSE')\n",
    "    plt.plot(values, -valid_scores.mean(axis=1), color='r', label='validation MSE')\n",
    "    plt.title('Validation Curve')\n",
    "    plt.legend()\n",
    "    plt.show()\n",
    "    \n",
    "    print 'Best performance: ', best_mse\n",
    "    "
   ]
  },
  {
   "cell_type": "code",
   "execution_count": 7,
   "metadata": {
    "collapsed": true
   },
   "outputs": [],
   "source": [
    "# Using OneHotEncoding data\n",
    "X_train, X_test, y_train, y_test = train_test_split(X_one, y, test_size = 0.2, random_state = 48)"
   ]
  },
  {
   "cell_type": "code",
   "execution_count": 8,
   "metadata": {},
   "outputs": [
    {
     "data": {
      "image/png": "[encoded data removed]",
      "text/plain": [
       "<matplotlib.figure.Figure at 0xe4d0b38>"
      ]
     },
     "metadata": {},
     "output_type": "display_data"
    },
    {
     "name": "stdout",
     "output_type": "stream",
     "text": [
      "Best performance:  5357328970.21\n"
     ]
    }
   ],
   "source": [
    "rg = Ridge()\n",
    "param = 'alpha'\n",
    "values = np.arange(0.1, 10, 0.1)\n",
    "plot_val_curve(rg, X_train, y_train, param, values)"
   ]
  },
  {
   "cell_type": "code",
   "execution_count": 11,
   "metadata": {},
   "outputs": [
    {
     "data": {
      "image/png": "[encoded data removed]",
      "text/plain": [
       "<matplotlib.figure.Figure at 0xe92c9b0>"
      ]
     },
     "metadata": {},
     "output_type": "display_data"
    },
    {
     "name": "stdout",
     "output_type": "stream",
     "text": [
      "Best performance:  5553161137.75\n"
     ]
    }
   ],
   "source": [
    "ls = Lasso()\n",
    "param = 'alpha'\n",
    "values = np.arange(1, 100.0, 1)\n",
    "plot_val_curve(ls, X_train, y_train, param, values)"
   ]
  },
  {
   "cell_type": "code",
   "execution_count": 22,
   "metadata": {},
   "outputs": [
    {
     "name": "stdout",
     "output_type": "stream",
     "text": [
      "Test MSE:  5837489353.82\n"
     ]
    }
   ],
   "source": [
    "# Final test\n",
    "rg = Ridge(alpha=0.3)\n",
    "rg.fit(X_train, y_train)\n",
    "pred = rg.predict(X_test)\n",
    "test_mse = mean_squared_error(y_test, pred)\n",
    "print 'Test MSE: ', test_mse"
   ]
  },
  {
   "cell_type": "code",
   "execution_count": 23,
   "metadata": {},
   "outputs": [
    {
     "data": {
      "text/plain": [
       "[('city_LOOMIS', 255657.16792003103),\n",
       " ('city_GRANITE BAY', 210224.70962255102),\n",
       " ('city_ELVERTA', -110298.27553560599),\n",
       " ('city_WALNUT GROVE', 96940.214942627936),\n",
       " ('city_NORTH HIGHLANDS', -92807.269564508562),\n",
       " ('city_MATHER', -87483.255104362732),\n",
       " ('city_RANCHO CORDOVA', -81528.73995627249),\n",
       " ('city_ANTELOPE', -78009.172443906806),\n",
       " ('city_WILTON', 68602.81506144478),\n",
       " ('city_GREENWOOD', -62531.550622174662),\n",
       " ('city_CITRUS HEIGHTS', -60028.118421290594),\n",
       " ('city_GOLD RIVER', 59755.488911198525),\n",
       " ('latitude', 57077.361004522354),\n",
       " ('city_RIO LINDA', -53897.255200979191),\n",
       " ('city_ELK GROVE', -52117.656747969282),\n",
       " ('city_FOLSOM', 50694.307059907107),\n",
       " ('street_t_others', 44244.752058880607),\n",
       " ('city_GALT', -43229.903867043453),\n",
       " ('city_AUBURN', 40767.528626936444),\n",
       " ('street_t_BLVD', -38398.899285840576)]"
      ]
     },
     "execution_count": 23,
     "metadata": {},
     "output_type": "execute_result"
    }
   ],
   "source": [
    "# Top 20 important features\n",
    "sorted(zip(list(X_one_df.columns), rg.coef_), key=lambda tup: abs(tup[1]), reverse=True)[:20]"
   ]
  },
  {
   "cell_type": "markdown",
   "metadata": {},
   "source": [
    "### Decision Tree"
   ]
  },
  {
   "cell_type": "code",
   "execution_count": 18,
   "metadata": {
    "collapsed": true
   },
   "outputs": [],
   "source": [
    "# Set parameter grid\n",
    "parametrs = {'max_depth': [ 6, 9],\n",
    "             'min_samples_split': [2],\n",
    "             'min_samples_leaf': [10],\n",
    "             'random_state': [42]\n",
    "            }\n",
    "param_grid = ParameterGrid(parametrs)"
   ]
  },
  {
   "cell_type": "code",
   "execution_count": 19,
   "metadata": {},
   "outputs": [
    {
     "name": "stdout",
     "output_type": "stream",
     "text": [
      "Best param:  {'min_samples_split': 2, 'random_state': 42, 'max_depth': 9, 'min_samples_leaf': 10}\n",
      "Best MSE:  6507204205.87\n"
     ]
    }
   ],
   "source": [
    "# Using LabelEncoding features\n",
    "X_train, X_test, y_train, y_test = train_test_split(X_one, y, test_size = 0.2, random_state = 48) \n",
    "\n",
    "# Parameter tuning and give best param and score\n",
    "best_score = 10000000000\n",
    "best_param = None\n",
    "for param in param_grid:\n",
    "    dc = DecisionTreeRegressor(**param)\n",
    "    \n",
    "    vali_score = cross_val_score(dc, X_train, y_train, scoring='neg_mean_squared_error', cv=6)\n",
    "    \n",
    "    if -vali_score.mean() < best_score:\n",
    "        best_score = -vali_score.mean()\n",
    "        best_param = param\n",
    "        \n",
    "print 'Best param: ', best_param\n",
    "print 'Best MSE: ', best_score"
   ]
  },
  {
   "cell_type": "code",
   "execution_count": 20,
   "metadata": {},
   "outputs": [
    {
     "name": "stdout",
     "output_type": "stream",
     "text": [
      "Test MSE:  7907573268.44\n"
     ]
    }
   ],
   "source": [
    "# Fit the training data and get test MSE \n",
    "dc = DecisionTreeRegressor(**best_param)\n",
    "dc.fit(X_train, y_train)\n",
    "pred = dc.predict(X_test)\n",
    "test_mse = mean_squared_error(y_test, pred)\n",
    "print 'Test MSE: ', test_mse"
   ]
  },
  {
   "cell_type": "markdown",
   "metadata": {},
   "source": [
    "### Random Forest"
   ]
  },
  {
   "cell_type": "code",
   "execution_count": 77,
   "metadata": {
    "collapsed": true
   },
   "outputs": [],
   "source": [
    "# Parameter grid\n",
    "parametrs = {'max_depth': [ 5, 10, 20],\n",
    "             'min_samples_split': [2, 4],\n",
    "             'min_samples_leaf': [4, 6],\n",
    "             'random_state': [42],\n",
    "              'n_estimators': [100],\n",
    "             'n_jobs': [-1]\n",
    "            }\n",
    "param_grid = ParameterGrid(parametrs)"
   ]
  },
  {
   "cell_type": "code",
   "execution_count": 87,
   "metadata": {
    "collapsed": true
   },
   "outputs": [],
   "source": [
    "# Using LabelEncoding features\n",
    "X_train, X_test, y_train, y_test = train_test_split(X_label, y, test_size = 0.2, random_state = 48) "
   ]
  },
  {
   "cell_type": "code",
   "execution_count": 88,
   "metadata": {},
   "outputs": [
    {
     "name": "stdout",
     "output_type": "stream",
     "text": [
      "Best param:  {'n_jobs': -1, 'min_samples_leaf': 4, 'n_estimators': 100, 'random_state': 42, 'min_samples_split': 2, 'max_depth': 10}\n",
      "Best MSE:  5532697156.03\n"
     ]
    }
   ],
   "source": [
    "\n",
    "# Parameter tuning and give best param and score\n",
    "best_score = 10000000000\n",
    "best_param = None\n",
    "for param in param_grid:\n",
    "    rf = RandomForestRegressor(**param)\n",
    "    \n",
    "    vali_score = cross_val_score(rf, X_train, y_train, scoring='neg_mean_squared_error', cv=6)\n",
    "    \n",
    "    if -vali_score.mean() < best_score:\n",
    "        best_score = -vali_score.mean()\n",
    "        best_param = param\n",
    "        \n",
    "print 'Best param: ', best_param\n",
    "print 'Best MSE: ', best_score   "
   ]
  },
  {
   "cell_type": "code",
   "execution_count": 89,
   "metadata": {},
   "outputs": [
    {
     "name": "stdout",
     "output_type": "stream",
     "text": [
      "Test MSE:  6610555583.08\n"
     ]
    }
   ],
   "source": [
    "# Increase the number of trees and Fit the training data and get test MSE \n",
    "best_param = {'n_jobs': -1, 'min_samples_leaf': 4, 'n_estimators': 500, 'random_state': 42, 'min_samples_split': 2, 'max_depth': 20}\n",
    "rf = RandomForestRegressor(**best_param)\n",
    "rf.fit(X_train, y_train)\n",
    "pred = rf.predict(X_test)\n",
    "test_mse = mean_squared_error(y_test, pred)\n",
    "print 'Test MSE: ', test_mse"
   ]
  },
  {
   "cell_type": "code",
   "execution_count": 90,
   "metadata": {},
   "outputs": [
    {
     "data": {
      "text/plain": [
       "[('sq__ft', 0.69539403814452294),\n",
       " ('longitude', 0.136424775841784),\n",
       " ('latitude', 0.075937152395958094),\n",
       " ('sale_date', 0.022736348352620683),\n",
       " ('street_t', 0.022111636592509337),\n",
       " ('city', 0.015946392323020597),\n",
       " ('beds', 0.014743702564788432),\n",
       " ('baths', 0.013509928730061944),\n",
       " ('city_bi', 0.0021669701238583895),\n",
       " ('type', 0.0010290549308750799)]"
      ]
     },
     "execution_count": 90,
     "metadata": {},
     "output_type": "execute_result"
    }
   ],
   "source": [
    "# The feature importance\n",
    "sorted(zip(X, rf.feature_importances_), key=lambda tup: abs(tup[1]), reverse=True)"
   ]
  }
 ],
 "metadata": {
  "kernelspec": {
   "display_name": "Python [default]",
   "language": "python",
   "name": "python2"
  },
  "language_info": {
   "codemirror_mode": {
    "name": "ipython",
    "version": 2
   },
   "file_extension": ".py",
   "mimetype": "text/x-python",
   "name": "python",
   "nbconvert_exporter": "python",
   "pygments_lexer": "ipython2",
   "version": "2.7.14"
  }
 },
 "nbformat": 4,
 "nbformat_minor": 2
}
